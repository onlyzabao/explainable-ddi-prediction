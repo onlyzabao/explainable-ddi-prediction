{
 "cells": [
  {
   "cell_type": "code",
   "execution_count": 1,
   "metadata": {},
   "outputs": [],
   "source": [
    "import pandas as pd\n",
    "import numpy as np\n",
    "from sklearn.model_selection import train_test_split\n",
    "import json\n",
    "import seaborn as sns\n",
    "import matplotlib.pyplot as plt\n",
    "import dgl\n",
    "import sys"
   ]
  },
  {
   "cell_type": "markdown",
   "metadata": {},
   "source": [
    "# Hetionet Enrichment"
   ]
  },
  {
   "cell_type": "code",
   "execution_count": 5,
   "metadata": {},
   "outputs": [],
   "source": [
    "drugbank = pd.read_csv(\"resources/drugbank.tsv\", delimiter=\"\\t\", header=None)"
   ]
  },
  {
   "cell_type": "code",
   "execution_count": 6,
   "metadata": {},
   "outputs": [],
   "source": [
    "hetionet_entities = pd.read_csv(\"resources/hetionet_nodes.tsv\", delimiter=\"\\t\")\n",
    "hetionet_compounds = hetionet_entities[hetionet_entities[\"kind\"] == \"Compound\"]\n",
    "hetionet_genes = hetionet_entities[hetionet_entities[\"kind\"] == \"Gene\"]"
   ]
  },
  {
   "cell_type": "code",
   "execution_count": 7,
   "metadata": {},
   "outputs": [],
   "source": [
    "drugbank_atc = drugbank[drugbank[1] == \"DRUGBANK::x-atc::Compound:Atc\"]\n",
    "drugbank_atc_for_hetionet = drugbank_atc[drugbank_atc[0].isin(hetionet_compounds[\"id\"])]\n",
    "\n",
    "drugbank_compounds_carrier_genes = drugbank[drugbank[1] == \"DRUGBANK::carrier::Compound:Gene\"]\n",
    "drugbank_compounds_carrier_genes_for_hetionet = drugbank_compounds_carrier_genes[\n",
    "    drugbank_compounds_carrier_genes[0].isin(hetionet_compounds[\"id\"])\n",
    "    & drugbank_compounds_carrier_genes[2].isin(hetionet_genes[\"id\"])\n",
    "]\n",
    "\n",
    "drugbank_compounds_enzyme_genes = drugbank[drugbank[1] == \"DRUGBANK::enzyme::Compound:Gene\"]\n",
    "drugbank_compounds_enzyme_genes_for_hetionet = drugbank_compounds_enzyme_genes[\n",
    "    drugbank_compounds_enzyme_genes[0].isin(hetionet_compounds[\"id\"])\n",
    "    & drugbank_compounds_enzyme_genes[2].isin(hetionet_genes[\"id\"])\n",
    "]\n",
    "\n",
    "drugbank_compounds_target_genes = drugbank[drugbank[1] == \"DRUGBANK::target::Compound:Gene\"]\n",
    "drugbank_compounds_target_genes_for_hetionet = drugbank_compounds_target_genes[\n",
    "    drugbank_compounds_target_genes[0].isin(hetionet_compounds[\"id\"])\n",
    "    & drugbank_compounds_target_genes[2].isin(hetionet_genes[\"id\"])\n",
    "]"
   ]
  },
  {
   "cell_type": "code",
   "execution_count": 23,
   "metadata": {},
   "outputs": [],
   "source": [
    "paths = [\"datasets/graph.txt\", \"resources/hetionet_4+1.txt\"]\n",
    "\n",
    "for path in paths:\n",
    "    with open(path, \"a\") as file:\n",
    "        for index, row in drugbank_atc_for_hetionet.iterrows():\n",
    "            file.write(\"\\t\".join([row[0], \"CbA\", row[2]]) + \"\\n\")\n",
    "\n",
    "    with open(path, \"a\") as file:\n",
    "        for index, row in drugbank_compounds_carrier_genes_for_hetionet.iterrows():\n",
    "            file.write(\"\\t\".join([row[0], \"CcG\", row[2]]) + \"\\n\")\n",
    "\n",
    "    with open(path, \"a\") as file:\n",
    "        for index, row in drugbank_compounds_enzyme_genes_for_hetionet.iterrows():\n",
    "            file.write(\"\\t\".join([row[0], \"CeG\", row[2]]) + \"\\n\")\n",
    "\n",
    "    with open(path, \"a\") as file:\n",
    "        for index, row in drugbank_compounds_target_genes_for_hetionet.iterrows():\n",
    "            file.write(\"\\t\".join([row[0], \"CtG\", row[2]]) + \"\\n\")"
   ]
  },
  {
   "cell_type": "code",
   "execution_count": 23,
   "metadata": {},
   "outputs": [],
   "source": [
    "pharmacokinetics_ddi = pd.read_csv(\"resources/pharmacokinetics_ddi.tsv\", delimiter=\"\\t\")"
   ]
  },
  {
   "cell_type": "code",
   "execution_count": 29,
   "metadata": {},
   "outputs": [
    {
     "data": {
      "text/plain": [
       "(656,)"
      ]
     },
     "execution_count": 29,
     "metadata": {},
     "output_type": "execute_result"
    }
   ],
   "source": [
    "pharmacokinetics_ddi[\"ID2\"].unique().shape"
   ]
  },
  {
   "cell_type": "code",
   "execution_count": 20,
   "metadata": {},
   "outputs": [
    {
     "name": "stdout",
     "output_type": "stream",
     "text": [
      "Train:  (22705, 3)\n",
      "Test:  (6694, 3)\n",
      "Val:  (2869, 3)\n"
     ]
    }
   ],
   "source": [
    "drug_frequency = pharmacokinetics_ddi[\"ID1\"].value_counts()\n",
    "single_occurrences_data = pharmacokinetics_ddi[pharmacokinetics_ddi[\"ID1\"].isin(drug_frequency[drug_frequency == 1].index)]\n",
    "multiple_occurrences_data = pharmacokinetics_ddi[pharmacokinetics_ddi[\"ID1\"].isin(drug_frequency[drug_frequency > 1].index)]\n",
    "\n",
    "train, test = train_test_split(multiple_occurrences_data, test_size=0.3, stratify=multiple_occurrences_data[\"ID1\"])\n",
    "\n",
    "drug_frequency = test[\"ID1\"].value_counts()\n",
    "single_test = test[test[\"ID1\"].isin(drug_frequency[drug_frequency == 1].index)]\n",
    "multiple_test = test[test[\"ID1\"].isin(drug_frequency[drug_frequency > 1].index)]\n",
    "\n",
    "test, val = train_test_split(multiple_test, test_size=0.3, stratify=multiple_test[\"ID1\"])\n",
    "\n",
    "train = pd.concat([train, single_occurrences_data, single_test])\n",
    "print(\"Train: \", train.shape)\n",
    "print(\"Test: \", test.shape)\n",
    "print(\"Val: \", val.shape)"
   ]
  },
  {
   "cell_type": "code",
   "execution_count": 24,
   "metadata": {},
   "outputs": [],
   "source": [
    "with open(\"datasets/graph.txt\", \"a\") as file:\n",
    "    for _, row in train.iterrows():\n",
    "        file.write(\"\\t\".join([row[\"ID1\"], \"CiC\", row[\"ID2\"]]) + \"\\n\")\n",
    "\n",
    "with open(\"datasets/train.txt\", \"w\") as file:\n",
    "    for _, row in train.iterrows():\n",
    "        file.write(\"\\t\".join([row[\"ID1\"], \"CiC\", row[\"ID2\"]]) + \"\\n\")\n",
    "\n",
    "with open(\"datasets/test.txt\", \"w\") as file:\n",
    "    for _, row in test.iterrows():\n",
    "        file.write(\"\\t\".join([row[\"ID1\"], \"CiC\", row[\"ID2\"]]) + \"\\n\")\n",
    "\n",
    "with open(\"datasets/dev.txt\", \"w\") as file:\n",
    "    for _, row in val.iterrows():\n",
    "        file.write(\"\\t\".join([row[\"ID1\"], \"CiC\", row[\"ID2\"]]) + \"\\n\")"
   ]
  },
  {
   "cell_type": "code",
   "execution_count": 25,
   "metadata": {},
   "outputs": [],
   "source": [
    "with open(\"resources/hetionet_4+1.txt\", \"a\") as file:\n",
    "    for _, row in train.iterrows():\n",
    "        file.write(\"\\t\".join([row[\"ID1\"], \"CiC\", row[\"ID2\"]]) + \"\\n\")\n",
    "    for _, row in test.iterrows():\n",
    "        file.write(\"\\t\".join([row[\"ID1\"], \"CiC\", row[\"ID2\"]]) + \"\\n\")\n",
    "    for _, row in val.iterrows():\n",
    "        file.write(\"\\t\".join([row[\"ID1\"], \"CiC\", row[\"ID2\"]]) + \"\\n\")"
   ]
  },
  {
   "cell_type": "code",
   "execution_count": 26,
   "metadata": {},
   "outputs": [],
   "source": [
    "hetionet_graph = pd.read_csv(\"datasets/graph.txt\", delimiter=\"\\t\", header=None)\n",
    "\n",
    "with open(\"datasets/graph.txt\", \"a\") as file:\n",
    "    for _, rows in hetionet_graph.iterrows():\n",
    "        file.write(\"\\t\".join([rows[2], \"_\" + rows[1], rows[0]]) + \"\\n\")"
   ]
  },
  {
   "cell_type": "code",
   "execution_count": 9,
   "metadata": {},
   "outputs": [],
   "source": [
    "hetionet_entity_vocab = json.load(open(\"hetionet_4+1/vocab/entity_vocab.json\"))\n",
    "hetionet_relation_vocab = json.load(open(\"hetionet_4+1/vocab/relation_vocab.json\"))"
   ]
  },
  {
   "cell_type": "code",
   "execution_count": null,
   "metadata": {},
   "outputs": [],
   "source": [
    "drugbank_entity_emb = np.load('../drugbank/embed/drugbank_TransE_l2_entity.npy')\n",
    "drugbank_relation_emb = np.load('../drugbank/embed/drugbank_TransE_l2_relation.npy')"
   ]
  },
  {
   "cell_type": "code",
   "execution_count": null,
   "metadata": {},
   "outputs": [],
   "source": [
    "drugbank_entities = pd.read_csv(\"../drugbank/embed/entities.tsv\", delimiter=\"\\t\", header=None)\n",
    "drugbank_relations = pd.read_csv(\"../drugbank/embed/relations.tsv\", delimiter=\"\\t\", header=None)"
   ]
  },
  {
   "cell_type": "code",
   "execution_count": null,
   "metadata": {},
   "outputs": [
    {
     "data": {
      "text/html": [
       "<div>\n",
       "<style scoped>\n",
       "    .dataframe tbody tr th:only-of-type {\n",
       "        vertical-align: middle;\n",
       "    }\n",
       "\n",
       "    .dataframe tbody tr th {\n",
       "        vertical-align: top;\n",
       "    }\n",
       "\n",
       "    .dataframe thead th {\n",
       "        text-align: right;\n",
       "    }\n",
       "</style>\n",
       "<table border=\"1\" class=\"dataframe\">\n",
       "  <thead>\n",
       "    <tr style=\"text-align: right;\">\n",
       "      <th></th>\n",
       "      <th>0</th>\n",
       "      <th>1</th>\n",
       "    </tr>\n",
       "  </thead>\n",
       "  <tbody>\n",
       "    <tr>\n",
       "      <th>0</th>\n",
       "      <td>Gene::2157</td>\n",
       "      <td>0</td>\n",
       "    </tr>\n",
       "    <tr>\n",
       "      <th>1</th>\n",
       "      <td>Gene::5264</td>\n",
       "      <td>1</td>\n",
       "    </tr>\n",
       "    <tr>\n",
       "      <th>2</th>\n",
       "      <td>Gene::2158</td>\n",
       "      <td>2</td>\n",
       "    </tr>\n",
       "    <tr>\n",
       "      <th>3</th>\n",
       "      <td>Gene::3309</td>\n",
       "      <td>3</td>\n",
       "    </tr>\n",
       "    <tr>\n",
       "      <th>5</th>\n",
       "      <td>Gene::811</td>\n",
       "      <td>5</td>\n",
       "    </tr>\n",
       "    <tr>\n",
       "      <th>...</th>\n",
       "      <td>...</td>\n",
       "      <td>...</td>\n",
       "    </tr>\n",
       "    <tr>\n",
       "      <th>96855</th>\n",
       "      <td>Gene::401027</td>\n",
       "      <td>96855</td>\n",
       "    </tr>\n",
       "    <tr>\n",
       "      <th>96856</th>\n",
       "      <td>Gene::255349</td>\n",
       "      <td>96856</td>\n",
       "    </tr>\n",
       "    <tr>\n",
       "      <th>96857</th>\n",
       "      <td>Gene::347541</td>\n",
       "      <td>96857</td>\n",
       "    </tr>\n",
       "    <tr>\n",
       "      <th>96858</th>\n",
       "      <td>Gene::4114</td>\n",
       "      <td>96858</td>\n",
       "    </tr>\n",
       "    <tr>\n",
       "      <th>96859</th>\n",
       "      <td>Gene::80099</td>\n",
       "      <td>96859</td>\n",
       "    </tr>\n",
       "  </tbody>\n",
       "</table>\n",
       "<p>47242 rows × 2 columns</p>\n",
       "</div>"
      ],
      "text/plain": [
       "                  0      1\n",
       "0        Gene::2157      0\n",
       "1        Gene::5264      1\n",
       "2        Gene::2158      2\n",
       "3        Gene::3309      3\n",
       "5         Gene::811      5\n",
       "...             ...    ...\n",
       "96855  Gene::401027  96855\n",
       "96856  Gene::255349  96856\n",
       "96857  Gene::347541  96857\n",
       "96858    Gene::4114  96858\n",
       "96859   Gene::80099  96859\n",
       "\n",
       "[47242 rows x 2 columns]"
      ]
     },
     "execution_count": 12,
     "metadata": {},
     "output_type": "execute_result"
    }
   ],
   "source": [
    "drugbank_entities_for_hetionet = drugbank_entities[drugbank_entities[0].isin(hetionet_entity_vocab.keys())]\n",
    "drugbank_entities_for_hetionet"
   ]
  },
  {
   "cell_type": "code",
   "execution_count": null,
   "metadata": {},
   "outputs": [
    {
     "data": {
      "text/plain": [
       "(47242, 400)"
      ]
     },
     "execution_count": 13,
     "metadata": {},
     "output_type": "execute_result"
    }
   ],
   "source": [
    "drugbank_entity_emb_for_hetionet = drugbank_entity_emb[drugbank_entities_for_hetionet[1]]\n",
    "drugbank_entity_emb_for_hetionet.shape"
   ]
  },
  {
   "cell_type": "code",
   "execution_count": null,
   "metadata": {},
   "outputs": [],
   "source": [
    "entity_to_id = {}\n",
    "\n",
    "drugbank_entities_for_hetionet = drugbank_entities_for_hetionet.reset_index()\n",
    "for i, row in drugbank_entities_for_hetionet.iterrows():\n",
    "    entity_to_id[row[0]] = i\n",
    "\n",
    "with open(\"hetionet_4+1/embed/entity_to_id.json\", \"w\") as file:\n",
    "    json.dump(entity_to_id, file)\n"
   ]
  },
  {
   "cell_type": "code",
   "execution_count": null,
   "metadata": {},
   "outputs": [],
   "source": [
    "np.save(\"hetionet_4+1/embed/entity_embeddings.npy\", drugbank_entity_emb_for_hetionet)"
   ]
  },
  {
   "cell_type": "code",
   "execution_count": null,
   "metadata": {},
   "outputs": [],
   "source": [
    "drugbank_relations.loc[drugbank_relations[0] == \"DRUGBANK::x-atc::Compound:Atc\", 0] = \"::CbA\"\n",
    "drugbank_relations.loc[drugbank_relations[0] == \"DRUGBANK::enzyme::Compound:Gene\", 0] = \"::CeG\"\n",
    "drugbank_relations.loc[drugbank_relations[0] == \"DRUGBANK::carrier::Compound:Gene\", 0] = \"::CcG\"\n",
    "drugbank_relations.loc[drugbank_relations[0] == \"DRUGBANK::target::Compound:Gene\", 0] = \"::CtG\"\n",
    "drugbank_relations.loc[drugbank_relations[0] == \"DRUGBANK::ddi-interactor-in::Compound:Compound\", 0] = \"::CiC\"\n"
   ]
  },
  {
   "cell_type": "code",
   "execution_count": null,
   "metadata": {},
   "outputs": [
    {
     "data": {
      "text/plain": [
       "19     CbA\n",
       "20     CiC\n",
       "21     CtG\n",
       "22     CeG\n",
       "23     CcG\n",
       "62    GpBP\n",
       "63     GiG\n",
       "64     CrC\n",
       "65     DdG\n",
       "66     DpS\n",
       "67     DlA\n",
       "68     CtD\n",
       "69     CbG\n",
       "70     CuG\n",
       "71     DrD\n",
       "72     DaG\n",
       "73     CpD\n",
       "74     AdG\n",
       "75     AuG\n",
       "76     GcG\n",
       "77    GpMF\n",
       "78    PCiC\n",
       "79    GpCC\n",
       "80    Gr>G\n",
       "81     CdG\n",
       "82     DuG\n",
       "83    GpPW\n",
       "84    CcSE\n",
       "85     AeG\n",
       "Name: 2, dtype: object"
      ]
     },
     "execution_count": 17,
     "metadata": {},
     "output_type": "execute_result"
    }
   ],
   "source": [
    "drugbank_relations[2] = drugbank_relations[0].str.split(\":\", expand=True)[2]\n",
    "drugbank_relations_for_hetionet = drugbank_relations[drugbank_relations[2].isin(hetionet_relation_vocab.keys())][2]\n",
    "drugbank_relations_for_hetionet"
   ]
  },
  {
   "cell_type": "code",
   "execution_count": null,
   "metadata": {},
   "outputs": [
    {
     "data": {
      "text/plain": [
       "(29, 400)"
      ]
     },
     "execution_count": 18,
     "metadata": {},
     "output_type": "execute_result"
    }
   ],
   "source": [
    "drugbank_relation_emb_for_hetionet = drugbank_relation_emb[drugbank_relations_for_hetionet.index]\n",
    "drugbank_relation_emb_for_hetionet.shape"
   ]
  },
  {
   "cell_type": "code",
   "execution_count": null,
   "metadata": {},
   "outputs": [
    {
     "data": {
      "text/plain": [
       "(58, 400)"
      ]
     },
     "execution_count": 19,
     "metadata": {},
     "output_type": "execute_result"
    }
   ],
   "source": [
    "drugbank_relation_emb_for_hetionet = np.concatenate([drugbank_relation_emb_for_hetionet, -drugbank_relation_emb_for_hetionet], axis=0)\n",
    "drugbank_relation_emb_for_hetionet.shape"
   ]
  },
  {
   "cell_type": "code",
   "execution_count": null,
   "metadata": {},
   "outputs": [],
   "source": [
    "np.save(\"hetionet_4+1/embed/relation_embeddings.npy\", drugbank_relation_emb_for_hetionet)"
   ]
  },
  {
   "cell_type": "code",
   "execution_count": null,
   "metadata": {},
   "outputs": [],
   "source": [
    "relation_to_id = {}\n",
    "\n",
    "drugbank_relations_for_hetionet = drugbank_relations_for_hetionet.reset_index()\n",
    "for i, row in drugbank_relations_for_hetionet.iterrows():\n",
    "    relation_to_id[row[2]] = i\n",
    "\n",
    "for i, row in drugbank_relations_for_hetionet.iterrows():\n",
    "    relation_to_id[\"_\" + row[2]] = i + len(drugbank_relations_for_hetionet)\n",
    "\n",
    "with open(\"hetionet_4+1/embed/relation_to_id.json\", \"w\") as file:\n",
    "    json.dump(relation_to_id, file)"
   ]
  },
  {
   "cell_type": "markdown",
   "metadata": {},
   "source": [
    "# Hetionet Statistics"
   ]
  },
  {
   "cell_type": "code",
   "execution_count": 2,
   "metadata": {},
   "outputs": [],
   "source": [
    "hetionet = pd.read_csv(\"resources/hetionet_4+1.txt\", sep=\"\\t\", header=None) \n",
    "triplets = hetionet.values.tolist()"
   ]
  },
  {
   "cell_type": "code",
   "execution_count": 127,
   "metadata": {},
   "outputs": [],
   "source": [
    "entity_dictionary = {}\n",
    "\n",
    "\n",
    "def insert_entry(entry, ent_type, dic):\n",
    "    if ent_type not in dic:\n",
    "        dic[ent_type] = {}\n",
    "    ent_n_id = len(dic[ent_type])\n",
    "    if entry not in dic[ent_type]:\n",
    "        dic[ent_type][entry] = ent_n_id\n",
    "    return dic\n",
    "\n",
    "\n",
    "for triple in triplets:\n",
    "    src = triple[0]\n",
    "    split_src = src.split(\"::\")\n",
    "    src_type = split_src[0]\n",
    "    dest = triple[2]\n",
    "    split_dest = dest.split(\"::\")\n",
    "    dest_type = split_dest[0]\n",
    "    insert_entry(src, src_type, entity_dictionary)\n",
    "    insert_entry(dest, dest_type, entity_dictionary)\n",
    "\n",
    "prev_k_len = 0\n",
    "for k, v in entity_dictionary.items():\n",
    "    for k2, v2 in v.items():\n",
    "        entity_dictionary[k][k2] += prev_k_len\n",
    "    prev_k_len += len(v)"
   ]
  },
  {
   "cell_type": "code",
   "execution_count": 128,
   "metadata": {},
   "outputs": [],
   "source": [
    "edge_dictionary = {}\n",
    "node_dictionary = {}\n",
    "for triple in triplets:\n",
    "    src = triple[0]\n",
    "    split_src = src.split(\"::\")\n",
    "    src_type = split_src[0]\n",
    "    dest = triple[2]\n",
    "    split_dest = dest.split(\"::\")\n",
    "    dest_type = split_dest[0]\n",
    "\n",
    "    src_int_id = entity_dictionary[src_type][src]\n",
    "    dest_int_id = entity_dictionary[dest_type][dest]\n",
    "\n",
    "    pair = [(src_int_id, dest_int_id)]\n",
    "    etype = triple[1]\n",
    "    if etype in edge_dictionary:\n",
    "        edge_dictionary[etype] += pair\n",
    "    else:\n",
    "        edge_dictionary[etype] = pair\n",
    "    if etype in node_dictionary:\n",
    "        node_dictionary[etype].add(src_int_id)\n",
    "        node_dictionary[etype].add(dest_int_id)\n",
    "    else:\n",
    "        node_dictionary[etype] = set()\n",
    "        node_dictionary[etype].add(src_int_id)\n",
    "        node_dictionary[etype].add(dest_int_id)"
   ]
  },
  {
   "cell_type": "code",
   "execution_count": 129,
   "metadata": {},
   "outputs": [],
   "source": [
    "jacard_pair_info = [\n",
    "    \"edge_type_1\\tedge_type_2\\tJancard-edge\\tJancard-node\\tPct of edges included in smaller set\\n\"\n",
    "]\n",
    "keys = list(edge_dictionary.keys())\n",
    "for i in range(len(keys)):\n",
    "    for k in range(i + 1, len(keys)):\n",
    "        e1 = keys[i]\n",
    "        e2 = keys[k]\n",
    "        e1_ed = set(edge_dictionary[e1])\n",
    "        e2_ed = set(edge_dictionary[e2])\n",
    "        common_edges = e1_ed.intersection(e2_ed)\n",
    "        union_edges = e1_ed.union(e2_ed)\n",
    "        jacard_edge = float(len(common_edges) / (len(union_edges)))\n",
    "\n",
    "        n1_d = node_dictionary[e1]\n",
    "        n2_d = node_dictionary[e2]\n",
    "        common_nodes = n1_d.intersection(n2_d)\n",
    "        union_nodes = n1_d.union(n2_d)\n",
    "        jacard_node = float(len(common_nodes) / (len(union_nodes)))\n",
    "\n",
    "        if len(e1_ed) > len(e2_ed):\n",
    "            max_ed = e1_ed\n",
    "            min_ed = e2_ed\n",
    "        else:\n",
    "            max_ed = e2_ed\n",
    "            min_ed = e1_ed\n",
    "        edge_inclusion = float(\n",
    "            (len(min_ed) - len(min_ed.difference(max_ed))) / len(min_ed)\n",
    "        )\n",
    "\n",
    "        jacard_pair_info.append(\n",
    "            \"{}\\t{}\\t{}\\t{}\\t{}\\n\".format(\n",
    "                e1, e2, jacard_edge, jacard_node, edge_inclusion\n",
    "            )\n",
    "        )"
   ]
  },
  {
   "cell_type": "code",
   "execution_count": 125,
   "metadata": {},
   "outputs": [],
   "source": [
    "jacard_triplets=[jacard_pair_in.split('\\t') for jacard_pair_in in jacard_pair_info]\n",
    "jacard_triplets=[jacard_triplet[:-1]+[jacard_triplet[-1].split('\\n')[0]] for jacard_triplet in jacard_triplets]"
   ]
  },
  {
   "cell_type": "code",
   "execution_count": 136,
   "metadata": {},
   "outputs": [],
   "source": [
    "import pandas as pd\n",
    "import numpy as np\n",
    "\n",
    "# Assuming `jacard_triplets` is already defined\n",
    "jacard_edge_df = pd.DataFrame(columns = [\"CeG\", \"CtG\", \"CcG\", \"CiC\"], index = [\"CbG\", \"CdG\", \"CuG\", \"CrC\"])\n",
    "jacard_node_df = pd.DataFrame(columns = [\"CeG\", \"CtG\", \"CcG\", \"CiC\"], index = [\"CbG\", \"CdG\", \"CuG\", \"CrC\"])\n",
    "\n",
    "for jacard_triplet in jacard_triplets:\n",
    "    etype_col = jacard_triplet[1]\n",
    "    etype_row = jacard_triplet[0]\n",
    "\n",
    "    if etype_row in jacard_edge_df.columns and etype_col in jacard_edge_df.columns:\n",
    "        continue\n",
    "\n",
    "    if etype_col not in jacard_edge_df.columns:\n",
    "        etype_col, etype_row = etype_row, etype_col\n",
    "\n",
    "        if etype_col not in jacard_edge_df.columns:\n",
    "            continue\n",
    "\n",
    "    if etype_row not in jacard_edge_df.index:\n",
    "        continue\n",
    "\n",
    "    jacard_edge_df.loc[etype_row, etype_col] = jacard_triplet[2]\n",
    "    jacard_node_df.loc[etype_row, etype_col] = jacard_triplet[3]\n",
    "\n"
   ]
  },
  {
   "cell_type": "code",
   "execution_count": 137,
   "metadata": {},
   "outputs": [
    {
     "data": {
      "text/html": [
       "<div>\n",
       "<style scoped>\n",
       "    .dataframe tbody tr th:only-of-type {\n",
       "        vertical-align: middle;\n",
       "    }\n",
       "\n",
       "    .dataframe tbody tr th {\n",
       "        vertical-align: top;\n",
       "    }\n",
       "\n",
       "    .dataframe thead th {\n",
       "        text-align: right;\n",
       "    }\n",
       "</style>\n",
       "<table border=\"1\" class=\"dataframe\">\n",
       "  <thead>\n",
       "    <tr style=\"text-align: right;\">\n",
       "      <th></th>\n",
       "      <th>CeG</th>\n",
       "      <th>CtG</th>\n",
       "      <th>CcG</th>\n",
       "      <th>CiC</th>\n",
       "    </tr>\n",
       "  </thead>\n",
       "  <tbody>\n",
       "    <tr>\n",
       "      <th>CbG</th>\n",
       "      <td>8.464576</td>\n",
       "      <td>8.980379</td>\n",
       "      <td>5.986325</td>\n",
       "      <td>0.000000</td>\n",
       "    </tr>\n",
       "    <tr>\n",
       "      <th>CdG</th>\n",
       "      <td>0.591087</td>\n",
       "      <td>2.644414</td>\n",
       "      <td>0.000000</td>\n",
       "      <td>0.000000</td>\n",
       "    </tr>\n",
       "    <tr>\n",
       "      <th>CuG</th>\n",
       "      <td>0.000000</td>\n",
       "      <td>2.848937</td>\n",
       "      <td>0.000000</td>\n",
       "      <td>0.000000</td>\n",
       "    </tr>\n",
       "    <tr>\n",
       "      <th>CrC</th>\n",
       "      <td>0.000000</td>\n",
       "      <td>0.000000</td>\n",
       "      <td>0.000000</td>\n",
       "      <td>3.858944</td>\n",
       "    </tr>\n",
       "  </tbody>\n",
       "</table>\n",
       "</div>"
      ],
      "text/plain": [
       "          CeG       CtG       CcG       CiC\n",
       "CbG  8.464576  8.980379  5.986325  0.000000\n",
       "CdG  0.591087  2.644414  0.000000  0.000000\n",
       "CuG  0.000000  2.848937  0.000000  0.000000\n",
       "CrC  0.000000  0.000000  0.000000  3.858944"
      ]
     },
     "execution_count": 137,
     "metadata": {},
     "output_type": "execute_result"
    }
   ],
   "source": [
    "# Convert the string values to float\n",
    "jacard_edge_df = jacard_edge_df.astype(float)\n",
    "\n",
    "# Replace NaN values with 0\n",
    "jacard_edge_df = jacard_edge_df.fillna(0.0)\n",
    "\n",
    "# If the value too small, replace it with 0\n",
    "# jacard_triplets_df = jacard_triplets_df.map(lambda x: 0.0 if x < 0.0000001 else x)\n",
    "\n",
    "# Sort columns by the number of zeroes\n",
    "# count_zeroes = (jacard_triplets_df == 0.0).sum() \n",
    "# jacard_triplets_df = jacard_triplets_df[count_zeroes.sort_values().index] \n",
    "\n",
    "# Sort rows by the number of zeroes\n",
    "# count_zeroes = (jacard_triplets_df == 0.0).sum(axis=1)\n",
    "# jacard_triplets_df = jacard_triplets_df.loc[count_zeroes.sort_values().index]\n",
    "\n",
    "# jacard_edge_df.loc[\"CbG\", \"CtG\"] = jacard_edge_df.loc[\"CbG\", \"CtG\"] / 10\n",
    "# jacard_edge_df.loc[\"CbG\", \"CeG\"] = jacard_edge_df.loc[\"CbG\", \"CeG\"] / 10\n",
    "# jacard_triplets_df.loc[\"CbG\", \"CcG\"] = jacard_triplets_df.loc[\"CbG\", \"CcG\"] / 100000\n",
    "\n",
    "# Apply a log transformation to the values\n",
    "jacard_edge_df = jacard_edge_df.map(lambda x: -np.log(x) if x != 0.0 else None)\n",
    "tmp_max = jacard_edge_df.max().max()\n",
    "jacard_edge_df = jacard_edge_df.fillna(tmp_max)\n",
    "jacard_edge_df = jacard_edge_df.map(lambda x: tmp_max - x)\n",
    "\n",
    "jacard_edge_df"
   ]
  },
  {
   "cell_type": "code",
   "execution_count": 112,
   "metadata": {},
   "outputs": [
    {
     "data": {
      "image/png": "[encoded data removed]",
      "text/plain": [
       "<Figure size 1200x800 with 2 Axes>"
      ]
     },
     "metadata": {},
     "output_type": "display_data"
    }
   ],
   "source": [
    "# Find the minimum and maximum values in the DataFrame\n",
    "vmin = jacard_edge_df.min().min()  # Minimum value\n",
    "vmin = 0.0\n",
    "vmax = 10\n",
    "\n",
    "# Set the figure size before plotting\n",
    "plt.figure(figsize=(12, 8))\n",
    "\n",
    "# Plot the heatmap with adjusted min and max values\n",
    "ax = sns.heatmap(jacard_edge_df, annot=True, cmap='coolwarm', vmin=vmin, vmax=vmax, center=5)\n",
    "\n",
    "colorbar = ax.collections[0].colorbar\n",
    "threshold = 8\n",
    "\n",
    "# Add a line on the colorbar at the threshold\n",
    "colorbar.ax.axhline(threshold, color='black', linewidth=1)\n",
    "# colorbar.ax.text(0.5, threshold_norm, f'{threshold}', color='black', fontsize=10, ha='center', va='center')\n",
    "\n",
    "# Label adjustments\n",
    "plt.xlabel(\"Enriched Relation\", labelpad=15, fontsize=16, fontweight='bold')\n",
    "plt.ylabel(\"Original Hetionet Relation\", labelpad=15, fontsize=16, fontweight='bold')\n",
    "\n",
    "plt.xticks(fontsize=11)\n",
    "plt.yticks(fontsize=11)\n",
    "\n",
    "# Show the plot\n",
    "plt.show()"
   ]
  }
 ],
 "metadata": {
  "kernelspec": {
   "display_name": "Thesis",
   "language": "python",
   "name": "python3"
  },
  "language_info": {
   "codemirror_mode": {
    "name": "ipython",
    "version": 3
   },
   "file_extension": ".py",
   "mimetype": "text/x-python",
   "name": "python",
   "nbconvert_exporter": "python",
   "pygments_lexer": "ipython3",
   "version": "3.10.14"
  }
 },
 "nbformat": 4,
 "nbformat_minor": 2
}

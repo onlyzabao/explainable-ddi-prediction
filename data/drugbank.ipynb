{
 "cells": [
  {
   "cell_type": "code",
   "execution_count": 3,
   "metadata": {},
   "outputs": [],
   "source": [
    "import pandas as pd\n",
    "import matplotlib.pyplot as plt\n",
    "\n",
    "# Load the DrugBank data\n",
    "drugbank_ddi = pd.read_csv('resources/drugbank_ddi.tab', sep='\\t')"
   ]
  },
  {
   "cell_type": "markdown",
   "metadata": {},
   "source": [
    "# DDIs Preparation"
   ]
  },
  {
   "cell_type": "code",
   "execution_count": 4,
   "metadata": {},
   "outputs": [],
   "source": [
    "# Rule-based filtering\n",
    "\n",
    "# Absorption\n",
    "absorption_filter = drugbank_ddi['Map'].str.contains('absorption')\n",
    "absorption_ddi = drugbank_ddi[absorption_filter]\n",
    "\n",
    "# Metabolism\n",
    "metabolism_filter = drugbank_ddi['Map'].str.contains('metabo')\n",
    "metabolism_ddi = drugbank_ddi[metabolism_filter]\n",
    "\n",
    "# Excretion\n",
    "excretion_filter = drugbank_ddi['Map'].str.contains('excretion')\n",
    "excretion_ddi = drugbank_ddi[excretion_filter]\n"
   ]
  },
  {
   "cell_type": "code",
   "execution_count": 3,
   "metadata": {},
   "outputs": [
    {
     "data": {
      "text/plain": [
       "Map\n",
       "#Drug1 can cause a decrease in the absorption of #Drug2 resulting in a reduced serum concentration and potentially a decrease in efficacy.                930\n",
       "#Drug1 can cause an increase in the absorption of #Drug2 resulting in an increased serum concentration and potentially a worsening of adverse effects.     82\n",
       "The absorption of #Drug2 can be decreased when combined with #Drug1.                                                                                       45\n",
       "dtype: int64"
      ]
     },
     "execution_count": 3,
     "metadata": {},
     "output_type": "execute_result"
    }
   ],
   "source": [
    "absorption_ddi.groupby('Map').size()"
   ]
  },
  {
   "cell_type": "code",
   "execution_count": 4,
   "metadata": {},
   "outputs": [
    {
     "data": {
      "text/plain": [
       "Map\n",
       "The metabolism of #Drug2 can be decreased when combined with #Drug1.                                                                                          34360\n",
       "The metabolism of #Drug2 can be increased when combined with #Drug1.                                                                                           5011\n",
       "The serum concentration of the active metabolites of #Drug2 can be increased when #Drug2 is used in combination with #Drug1.                                    538\n",
       "The serum concentration of the active metabolites of #Drug2 can be reduced when #Drug2 is used in combination with #Drug1 resulting in a loss in efficacy.      312\n",
       "dtype: int64"
      ]
     },
     "execution_count": 4,
     "metadata": {},
     "output_type": "execute_result"
    }
   ],
   "source": [
    "metabolism_ddi.groupby('Map').size()"
   ]
  },
  {
   "cell_type": "code",
   "execution_count": 5,
   "metadata": {},
   "outputs": [
    {
     "data": {
      "text/plain": [
       "Map\n",
       "#Drug1 may decrease the excretion rate of #Drug2 which could result in a higher serum level.                                           1825\n",
       "#Drug1 may increase the excretion rate of #Drug2 which could result in a lower serum level and potentially a reduction in efficacy.      32\n",
       "dtype: int64"
      ]
     },
     "execution_count": 5,
     "metadata": {},
     "output_type": "execute_result"
    }
   ],
   "source": [
    "excretion_ddi.groupby('Map').size()"
   ]
  },
  {
   "cell_type": "code",
   "execution_count": 47,
   "metadata": {},
   "outputs": [
    {
     "data": {
      "text/html": [
       "<div>\n",
       "<style scoped>\n",
       "    .dataframe tbody tr th:only-of-type {\n",
       "        vertical-align: middle;\n",
       "    }\n",
       "\n",
       "    .dataframe tbody tr th {\n",
       "        vertical-align: top;\n",
       "    }\n",
       "\n",
       "    .dataframe thead th {\n",
       "        text-align: right;\n",
       "    }\n",
       "</style>\n",
       "<table border=\"1\" class=\"dataframe\">\n",
       "  <thead>\n",
       "    <tr style=\"text-align: right;\">\n",
       "      <th></th>\n",
       "      <th>ID1</th>\n",
       "      <th>ID2</th>\n",
       "      <th>Map</th>\n",
       "    </tr>\n",
       "  </thead>\n",
       "  <tbody>\n",
       "    <tr>\n",
       "      <th>12885</th>\n",
       "      <td>Compound::DB01188</td>\n",
       "      <td>Compound::DB00396</td>\n",
       "      <td>The absorption of #Drug2 can be decreased when...</td>\n",
       "    </tr>\n",
       "    <tr>\n",
       "      <th>12886</th>\n",
       "      <td>Compound::DB01141</td>\n",
       "      <td>Compound::DB00396</td>\n",
       "      <td>The absorption of #Drug2 can be decreased when...</td>\n",
       "    </tr>\n",
       "    <tr>\n",
       "      <th>12887</th>\n",
       "      <td>Compound::DB00525</td>\n",
       "      <td>Compound::DB00396</td>\n",
       "      <td>The absorption of #Drug2 can be decreased when...</td>\n",
       "    </tr>\n",
       "    <tr>\n",
       "      <th>12888</th>\n",
       "      <td>Compound::DB00520</td>\n",
       "      <td>Compound::DB00396</td>\n",
       "      <td>The absorption of #Drug2 can be decreased when...</td>\n",
       "    </tr>\n",
       "    <tr>\n",
       "      <th>12889</th>\n",
       "      <td>Compound::DB02513</td>\n",
       "      <td>Compound::DB00396</td>\n",
       "      <td>The absorption of #Drug2 can be decreased when...</td>\n",
       "    </tr>\n",
       "    <tr>\n",
       "      <th>...</th>\n",
       "      <td>...</td>\n",
       "      <td>...</td>\n",
       "      <td>...</td>\n",
       "    </tr>\n",
       "    <tr>\n",
       "      <th>154786</th>\n",
       "      <td>Compound::DB00452</td>\n",
       "      <td>Compound::DB00744</td>\n",
       "      <td>#Drug1 may decrease the excretion rate of #Dru...</td>\n",
       "    </tr>\n",
       "    <tr>\n",
       "      <th>154787</th>\n",
       "      <td>Compound::DB00997</td>\n",
       "      <td>Compound::DB00812</td>\n",
       "      <td>#Drug1 may decrease the excretion rate of #Dru...</td>\n",
       "    </tr>\n",
       "    <tr>\n",
       "      <th>154788</th>\n",
       "      <td>Compound::DB00997</td>\n",
       "      <td>Compound::DB00814</td>\n",
       "      <td>#Drug1 may decrease the excretion rate of #Dru...</td>\n",
       "    </tr>\n",
       "    <tr>\n",
       "      <th>154789</th>\n",
       "      <td>Compound::DB01177</td>\n",
       "      <td>Compound::DB09084</td>\n",
       "      <td>#Drug1 may decrease the excretion rate of #Dru...</td>\n",
       "    </tr>\n",
       "    <tr>\n",
       "      <th>154790</th>\n",
       "      <td>Compound::DB00452</td>\n",
       "      <td>Compound::DB00749</td>\n",
       "      <td>#Drug1 may decrease the excretion rate of #Dru...</td>\n",
       "    </tr>\n",
       "  </tbody>\n",
       "</table>\n",
       "<p>43135 rows × 3 columns</p>\n",
       "</div>"
      ],
      "text/plain": [
       "                      ID1                ID2  \\\n",
       "12885   Compound::DB01188  Compound::DB00396   \n",
       "12886   Compound::DB01141  Compound::DB00396   \n",
       "12887   Compound::DB00525  Compound::DB00396   \n",
       "12888   Compound::DB00520  Compound::DB00396   \n",
       "12889   Compound::DB02513  Compound::DB00396   \n",
       "...                   ...                ...   \n",
       "154786  Compound::DB00452  Compound::DB00744   \n",
       "154787  Compound::DB00997  Compound::DB00812   \n",
       "154788  Compound::DB00997  Compound::DB00814   \n",
       "154789  Compound::DB01177  Compound::DB09084   \n",
       "154790  Compound::DB00452  Compound::DB00749   \n",
       "\n",
       "                                                      Map  \n",
       "12885   The absorption of #Drug2 can be decreased when...  \n",
       "12886   The absorption of #Drug2 can be decreased when...  \n",
       "12887   The absorption of #Drug2 can be decreased when...  \n",
       "12888   The absorption of #Drug2 can be decreased when...  \n",
       "12889   The absorption of #Drug2 can be decreased when...  \n",
       "...                                                   ...  \n",
       "154786  #Drug1 may decrease the excretion rate of #Dru...  \n",
       "154787  #Drug1 may decrease the excretion rate of #Dru...  \n",
       "154788  #Drug1 may decrease the excretion rate of #Dru...  \n",
       "154789  #Drug1 may decrease the excretion rate of #Dru...  \n",
       "154790  #Drug1 may decrease the excretion rate of #Dru...  \n",
       "\n",
       "[43135 rows x 3 columns]"
      ]
     },
     "execution_count": 47,
     "metadata": {},
     "output_type": "execute_result"
    }
   ],
   "source": [
    "pharmacokinetics_ddi = pd.concat([absorption_ddi, metabolism_ddi, excretion_ddi])\n",
    "pharmacokinetics_ddi = pharmacokinetics_ddi.drop_duplicates()\n",
    "pharmacokinetics_ddi[\"ID1\"] = \"Compound::\" + pharmacokinetics_ddi[\"ID1\"]\n",
    "pharmacokinetics_ddi[\"ID2\"] = \"Compound::\" + pharmacokinetics_ddi[\"ID2\"]\n",
    "pharmacokinetics_ddi = pharmacokinetics_ddi[[\"ID1\", \"ID2\", \"Map\"]]\n",
    "pharmacokinetics_ddi"
   ]
  },
  {
   "cell_type": "code",
   "execution_count": 5,
   "metadata": {},
   "outputs": [],
   "source": [
    "hetionet_entities = pd.read_csv(\"resources/hetionet_nodes.tsv\", delimiter=\"\\t\")\n",
    "hetionet_comounds = hetionet_entities[hetionet_entities['kind'] == 'Compound']"
   ]
  },
  {
   "cell_type": "code",
   "execution_count": 6,
   "metadata": {},
   "outputs": [
    {
     "data": {
      "text/html": [
       "<div>\n",
       "<style scoped>\n",
       "    .dataframe tbody tr th:only-of-type {\n",
       "        vertical-align: middle;\n",
       "    }\n",
       "\n",
       "    .dataframe tbody tr th {\n",
       "        vertical-align: top;\n",
       "    }\n",
       "\n",
       "    .dataframe thead th {\n",
       "        text-align: right;\n",
       "    }\n",
       "</style>\n",
       "<table border=\"1\" class=\"dataframe\">\n",
       "  <thead>\n",
       "    <tr style=\"text-align: right;\">\n",
       "      <th></th>\n",
       "      <th>ID1</th>\n",
       "      <th>ID2</th>\n",
       "      <th>Map</th>\n",
       "    </tr>\n",
       "  </thead>\n",
       "  <tbody>\n",
       "    <tr>\n",
       "      <th>12885</th>\n",
       "      <td>Compound::DB01188</td>\n",
       "      <td>Compound::DB00396</td>\n",
       "      <td>The absorption of #Drug2 can be decreased when...</td>\n",
       "    </tr>\n",
       "    <tr>\n",
       "      <th>12886</th>\n",
       "      <td>Compound::DB01141</td>\n",
       "      <td>Compound::DB00396</td>\n",
       "      <td>The absorption of #Drug2 can be decreased when...</td>\n",
       "    </tr>\n",
       "    <tr>\n",
       "      <th>12887</th>\n",
       "      <td>Compound::DB00525</td>\n",
       "      <td>Compound::DB00396</td>\n",
       "      <td>The absorption of #Drug2 can be decreased when...</td>\n",
       "    </tr>\n",
       "    <tr>\n",
       "      <th>12888</th>\n",
       "      <td>Compound::DB00520</td>\n",
       "      <td>Compound::DB00396</td>\n",
       "      <td>The absorption of #Drug2 can be decreased when...</td>\n",
       "    </tr>\n",
       "    <tr>\n",
       "      <th>12892</th>\n",
       "      <td>Compound::DB08943</td>\n",
       "      <td>Compound::DB00396</td>\n",
       "      <td>The absorption of #Drug2 can be decreased when...</td>\n",
       "    </tr>\n",
       "    <tr>\n",
       "      <th>...</th>\n",
       "      <td>...</td>\n",
       "      <td>...</td>\n",
       "      <td>...</td>\n",
       "    </tr>\n",
       "    <tr>\n",
       "      <th>154784</th>\n",
       "      <td>Compound::DB06696</td>\n",
       "      <td>Compound::DB00500</td>\n",
       "      <td>#Drug1 may decrease the excretion rate of #Dru...</td>\n",
       "    </tr>\n",
       "    <tr>\n",
       "      <th>154786</th>\n",
       "      <td>Compound::DB00452</td>\n",
       "      <td>Compound::DB00744</td>\n",
       "      <td>#Drug1 may decrease the excretion rate of #Dru...</td>\n",
       "    </tr>\n",
       "    <tr>\n",
       "      <th>154787</th>\n",
       "      <td>Compound::DB00997</td>\n",
       "      <td>Compound::DB00812</td>\n",
       "      <td>#Drug1 may decrease the excretion rate of #Dru...</td>\n",
       "    </tr>\n",
       "    <tr>\n",
       "      <th>154788</th>\n",
       "      <td>Compound::DB00997</td>\n",
       "      <td>Compound::DB00814</td>\n",
       "      <td>#Drug1 may decrease the excretion rate of #Dru...</td>\n",
       "    </tr>\n",
       "    <tr>\n",
       "      <th>154790</th>\n",
       "      <td>Compound::DB00452</td>\n",
       "      <td>Compound::DB00749</td>\n",
       "      <td>#Drug1 may decrease the excretion rate of #Dru...</td>\n",
       "    </tr>\n",
       "  </tbody>\n",
       "</table>\n",
       "<p>32268 rows × 3 columns</p>\n",
       "</div>"
      ],
      "text/plain": [
       "                      ID1                ID2  \\\n",
       "12885   Compound::DB01188  Compound::DB00396   \n",
       "12886   Compound::DB01141  Compound::DB00396   \n",
       "12887   Compound::DB00525  Compound::DB00396   \n",
       "12888   Compound::DB00520  Compound::DB00396   \n",
       "12892   Compound::DB08943  Compound::DB00396   \n",
       "...                   ...                ...   \n",
       "154784  Compound::DB06696  Compound::DB00500   \n",
       "154786  Compound::DB00452  Compound::DB00744   \n",
       "154787  Compound::DB00997  Compound::DB00812   \n",
       "154788  Compound::DB00997  Compound::DB00814   \n",
       "154790  Compound::DB00452  Compound::DB00749   \n",
       "\n",
       "                                                      Map  \n",
       "12885   The absorption of #Drug2 can be decreased when...  \n",
       "12886   The absorption of #Drug2 can be decreased when...  \n",
       "12887   The absorption of #Drug2 can be decreased when...  \n",
       "12888   The absorption of #Drug2 can be decreased when...  \n",
       "12892   The absorption of #Drug2 can be decreased when...  \n",
       "...                                                   ...  \n",
       "154784  #Drug1 may decrease the excretion rate of #Dru...  \n",
       "154786  #Drug1 may decrease the excretion rate of #Dru...  \n",
       "154787  #Drug1 may decrease the excretion rate of #Dru...  \n",
       "154788  #Drug1 may decrease the excretion rate of #Dru...  \n",
       "154790  #Drug1 may decrease the excretion rate of #Dru...  \n",
       "\n",
       "[32268 rows x 3 columns]"
      ]
     },
     "execution_count": 6,
     "metadata": {},
     "output_type": "execute_result"
    }
   ],
   "source": [
    "pharmacokinetics_ddi_for_hetionet = pharmacokinetics_ddi[pharmacokinetics_ddi[\"ID1\"].isin(hetionet_entities[\"id\"]) \n",
    "                                                         & pharmacokinetics_ddi[\"ID2\"].isin(hetionet_entities[\"id\"])]\n",
    "pharmacokinetics_ddi_for_hetionet"
   ]
  },
  {
   "cell_type": "code",
   "execution_count": 7,
   "metadata": {},
   "outputs": [],
   "source": [
    "with open(\"resources/pharmacokinetics_ddi.tsv\", \"w\") as file:\n",
    "    pharmacokinetics_ddi_for_hetionet.to_csv(file, sep=\"\\t\", index=False)"
   ]
  },
  {
   "cell_type": "markdown",
   "metadata": {},
   "source": [
    "# DDIs Statistics"
   ]
  },
  {
   "cell_type": "code",
   "execution_count": 5,
   "metadata": {},
   "outputs": [],
   "source": [
    "# Muted Dracula Theme Color Constants\n",
    "BACKGROUND = \"#1e1f29\"\n",
    "CURRENT_LINE = \"#2a2b38\"\n",
    "SELECTION = \"#2a2b38\"\n",
    "FOREGROUND = \"#d7d7d7\"\n",
    "COMMENT = \"#505c75\"\n",
    "CYAN = \"#6bc2d9\"\n",
    "GREEN = \"#42d66c\"\n",
    "ORANGE = \"#e0a568\"\n",
    "PINK = \"#d164a3\"\n",
    "PURPLE = \"#9e7fc7\"\n",
    "RED = \"#d05050\"\n",
    "YELLOW = \"#dcd585\"\n"
   ]
  },
  {
   "cell_type": "code",
   "execution_count": 6,
   "metadata": {},
   "outputs": [
    {
     "data": {
      "image/png": "[encoded data removed]",
      "text/plain": [
       "<Figure size 1200x800 with 1 Axes>"
      ]
     },
     "metadata": {},
     "output_type": "display_data"
    }
   ],
   "source": [
    "import pandas as pd\n",
    "import matplotlib.pyplot as plt\n",
    "\n",
    "# Grouping data and assigning categories\n",
    "absorption_ddi_group = absorption_ddi.groupby('Map').size().reset_index(name='Count')\n",
    "absorption_ddi_group[\"ID\"] = [\"A1\", \"A2\", \"A3\"]\n",
    "absorption_ddi_group[\"Category\"] = \"Absorption\"\n",
    "\n",
    "metabolism_ddi_group = metabolism_ddi.groupby('Map').size().reset_index(name='Count')\n",
    "metabolism_ddi_group[\"ID\"] = [\"M1\", \"M2\", \"M3\", \"M4\"]\n",
    "metabolism_ddi_group[\"Category\"] = \"Metabolism\"\n",
    "\n",
    "excretion_ddi_group = excretion_ddi.groupby('Map').size().reset_index(name='Count')\n",
    "excretion_ddi_group[\"ID\"] = [\"E1\", \"E2\"]\n",
    "excretion_ddi_group[\"Category\"] = \"Excretion\"\n",
    "\n",
    "# Combine all groups\n",
    "pharmacokinetics_ddi_group = pd.concat([absorption_ddi_group, metabolism_ddi_group, excretion_ddi_group])\n",
    "\n",
    "# Create a color map\n",
    "category_colors = {\n",
    "    \"Absorption\": GREEN,\n",
    "    \"Metabolism\": CYAN,\n",
    "    \"Excretion\": ORANGE\n",
    "}\n",
    "colors = pharmacokinetics_ddi_group[\"Category\"].map(category_colors)\n",
    "\n",
    "# Plotting a bar chart\n",
    "plt.figure(figsize=(12, 8))\n",
    "bars = plt.bar(pharmacokinetics_ddi_group[\"ID\"], pharmacokinetics_ddi_group[\"Count\"], color=colors)\n",
    "\n",
    "# Adding data labels\n",
    "for bar in bars:\n",
    "    height = bar.get_height()\n",
    "    plt.text(bar.get_x() + bar.get_width() / 2, height + 0.1, f'{height:.0f}', ha='center', va='bottom', fontsize=12)\n",
    "\n",
    "# Adding labels and title\n",
    "plt.xlabel(\"Category\", labelpad=15, fontsize=16, fontweight='bold')\n",
    "plt.ylabel(\"Frequency\", labelpad=15, fontsize=16, fontweight='bold')\n",
    "\n",
    "# Adjusting the font size of the axis tick labels\n",
    "plt.xticks(fontsize=14)\n",
    "plt.yticks(fontsize=14)\n",
    "\n",
    "# Adding a legend with increased font size for the title\n",
    "handles = [\n",
    "    plt.Rectangle((0, 0), 1, 1, color=category_colors[\"Absorption\"], label=\"Absorption\"),\n",
    "    plt.Rectangle((0, 0), 1, 1, color=category_colors[\"Metabolism\"], label=\"Metabolism\"),\n",
    "    plt.Rectangle((0, 0), 1, 1, color=category_colors[\"Excretion\"], label=\"Excretion\")\n",
    "]\n",
    "plt.legend(handles=handles, title=\"Category\", loc=\"upper right\", fontsize=12, title_fontsize=12)\n",
    "\n",
    "# Show the plot\n",
    "plt.show()\n"
   ]
  }
 ],
 "metadata": {
  "kernelspec": {
   "display_name": "Thesis",
   "language": "python",
   "name": "python3"
  },
  "language_info": {
   "codemirror_mode": {
    "name": "ipython",
    "version": 3
   },
   "file_extension": ".py",
   "mimetype": "text/x-python",
   "name": "python",
   "nbconvert_exporter": "python",
   "pygments_lexer": "ipython3",
   "version": "3.10.14"
  }
 },
 "nbformat": 4,
 "nbformat_minor": 2
}
